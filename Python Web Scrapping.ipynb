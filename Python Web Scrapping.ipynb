{
 "cells": [
  {
   "cell_type": "code",
   "execution_count": 1,
   "metadata": {},
   "outputs": [],
   "source": [
    "import codecs"
   ]
  },
  {
   "cell_type": "code",
   "execution_count": 2,
   "metadata": {},
   "outputs": [],
   "source": [
    "file = codecs.open(\"SastaSundar.html\", \"r\", \"utf-8\")\n",
    "#print(file.read())"
   ]
  },
  {
   "cell_type": "code",
   "execution_count": 3,
   "metadata": {},
   "outputs": [],
   "source": [
    "with open(\"filename.html\",\"w+\") as f:\n",
    "    f.write(\"SastaSundar.html\")"
   ]
  },
  {
   "cell_type": "code",
   "execution_count": 4,
   "metadata": {},
   "outputs": [],
   "source": [
    "infile = open('SastaSundar.html', 'r')\n",
    "img_list = []\n",
    "img_count = 0\n",
    "for line in infile:\n",
    "    if \"img\" in line:\n",
    "        img_list.append(line+\"\\n\")\n",
    "        img_count = img_count + 1\n",
    "        #print(line+\"\\n\")"
   ]
  },
  {
   "cell_type": "code",
   "execution_count": 5,
   "metadata": {},
   "outputs": [
    {
     "name": "stdout",
     "output_type": "stream",
     "text": [
      "['/\" cdn_mob_folder=3D\"\" default_prod_img=3D\"default_product1460098847.jpg\" p=\\n\\n', '                \\t<img src=3D\"https://res.sastasundar.com/incom/sspl_website=\\n\\n', '=3D\"img-responsive\">\\n\\n', 'free\" target=3D\"_blank\"><img src=3D\"https://res.sastasundar.com/incom/incom=\\n\\n', '\" alt=3D\"Sugar Free Sweeteners\" class=3D\" img-responsive center-block\"></a>=\\n\\n', 'com/catalog/lists/lizol-harpic-prmo?\" target=3D\"_blank\"><img src=3D\"https:/=\\n\\n', 'tle=3D\"Lizol Harpic\" alt=3D\"Lizol Harpic\" class=3D\" img-responsive center-b=\\n\\n', 'stasundar.com/yana_diet_clinic\" target=3D\"_blank\"><img src=3D\"https://res.s=\\n\\n', 'na Diet\" alt=3D\"Yana Diet\" class=3D\" img-responsive center-block\"></a></div=\\n\\n', 'stomercart?CampId=3D5MjggJ4X5TkcmO53NumX\" target=3D\"_blank\"><img src=3D\"htt=\\n\\n', '.jpg\" title=3D\"Genuine Medicines\" alt=3D\"Genuine Medicines\" class=3D\" img-r=\\n\\n', '\"><img src=3D\"https://res.sastasundar.com/incom/incom_banner/1366/160629595=\\n\\n', '2_dettol.jpg\" title=3D\"Dettol\" alt=3D\"Dettol\" class=3D\" img-responsive cent=\\n\\n', 'sundar.com/index.php/dnavita/healthInformation\" target=3D\"_blank\"><img src=\\n\\n', 'jpg\" title=3D\"DNAVITA\" alt=3D\"DNAVITA\" class=3D\" img-responsive center-bloc=\\n\\n', 'com/sugar-free-sweeteners/c/s/2bgft3?q=3Dsugar+free\" target=3D\"_blank\"><img=\\n\\n', 'rs\" class=3D\" img-responsive center-block\"></a></div></div><div class=3D\"ow=\\n\\n', '?\" target=3D\"_blank\"><img src=3D\"https://res.sastasundar.com/incom/incom_ba=\\n\\n', 'arpic\" class=3D\" img-responsive center-block\"></a></div></div><div class=3D=\\n\\n', '_blank\"><img src=3D\"https://res.sastasundar.com/incom/incom_banner/1366/160=\\n\\n', '2577527_yanadiet.jpg\" title=3D\"Yana Diet\" alt=3D\"Yana Diet\" class=3D\" img-r=\\n\\n', '3NumX\" target=3D\"_blank\"><img src=3D\"https://res.sastasundar.com/incom/inco=\\n\\n', 'lt=3D\"Genuine Medicines\" class=3D\" img-responsive center-block\"></a></div><=\\n\\n', 'nd/brandlisting/dettol\" target=3D\"_blank\"><img src=3D\"https://res.sastasund=\\n\\n', '=3D\"Dettol\" class=3D\" img-responsive center-block\"></a></div></div><div cla=\\n\\n', 'ta/healthInformation\" target=3D\"_blank\"><img src=3D\"https://res.sastasundar=\\n\\n', '=3D\"DNAVITA\" class=3D\" img-responsive center-block\"></a></div></div></div><=\\n\\n', '\"><img src=3D\"https://res.sastasundar.com/incom/sspl_website/images/homepag=\\n\\n', 'e_v1/ordermedicine_s1.png\" alt=3D\"SastaSundar\" border=3D\"0\" class=3D\"img-re=\\n\\n', 'arget=3D\"_blank\"><img src=3D\"https://res.sastasundar.com/incom/sspl_website=\\n\\n', '=3D\"0\" class=3D\"img-responsive center-block\"><strong>Order by Prescription<=\\n\\n', 'myorders\" target=3D\"_blank\"><img src=3D\"https://res.sastasundar.com/incom/s=\\n\\n', 'border=3D\"0\" class=3D\"img-responsive center-block\"><strong>Reorder Medicine=\\n\\n', '=3D\"_blank\"><img src=3D\"https://res.sastasundar.com/incom/sspl_website/imag=\\n\\n', 's=3D\"img-responsive center-block\"><strong>Shop by Category</strong><p>Genui=\\n\\n', 'edProducts\" loaded=3D\"1\"><div class=3D\"img-block-link xplorBannerplaceholde=\\n\\n', 'tasundar-healthbuddy-limited/p/pee5nv\" target=3D\"_blank\"><img src=3D\"https:=\\n\\n', 's_img_effect_start img-responsive center-block js_img_effect_end\"></a></div=\\n\\n', 'blank\"><img src=3D\"https://res.sastasundar.com/incom/incom_banner/160217414=\\n\\n', ' owl-lazy js_img_effect_start img-responsive center-block js_img_effect_end=\\n\\n', '.com/face-mask-sanitizers-essentials/c/m/fhblrz\" target=3D\"_blank\"><img src=\\n\\n', 'mlazyload owl-lazy js_img_effect_start img-responsive center-block js_img_e=\\n\\n', 'display: block;\" align=3D\"center\"><div class=3D\"clr height120\"></div><img s=\\n\\n', '20\"></div><img src=3D\"https://res.sastasundar.com/incom/sspl_website/images=\\n\\n', '=3D\"center\"><div class=3D\"clr height120\"></div><img src=3D\"https://res.sast=\\n\\n', 'img src=3D\"https://res.sastasundar.com/incom/sspl_website/images/preload.gi=\\n\\n', '><img src=3D\"https://res.sastasundar.com/incom/sspl_website/images/preload.=\\n\\n', 'lay: block;\" align=3D\"center\"><div class=3D\"clr height120\"></div><img src=\\n\\n', '/div><img src=3D\"https://res.sastasundar.com/incom/sspl_website/images/prel=\\n\\n', 'img src=3D\"https://res.sastasundar.com/incom/sspl_website/images/preload.gi=\\n\\n', '></div><img src=3D\"https://res.sastasundar.com/incom/sspl_website/images/pr=\\n\\n', 'div><img src=3D\"https://res.sastasundar.com/incom/sspl_website/images/prelo=\\n\\n', 'ign=3D\"center\"><div class=3D\"clr height120\"></div><img src=3D\"https://res.s=\\n\\n', 'rea box_bgwhite popularBrandsSec\" loaded=3D\"0\"><!--<img src=3D\"incom_banner=\\n\\n', '/placeholder_brands_image.png\" alt=3D\"\" class=3D\"img-responsive center-bloc=\\n\\n', 'lock;\" align=3D\"center\"><div class=3D\"clr height120\"></div><img src=3D\"http=\\n\\n', '<span id=3D\"default_product_img\" default_product_img=3D\"default_product1460=\\n\\n', '<div class=3D\"i-con iconfeedback\" data-content=3D\"beispiel1\"><img src=3D\"ht=\\n\\n', '<div class=3D\"i-con icon-suggest_product\" data-content=3D\"beispiel2\"><img s=\\n\\n', ' <!--<div class=3D\"chat-bot-icon\"><img src=3D\"https://res.sastasundar.com/i=\\n\\n', '\\t\\t\\t\\t<div class=3D\"col-lg-4 pad0\"><img src=3D\"https://www.sastasundar.com/\" =\\n\\n', 'ss\"><img src=3D\"https://res.sastasundar.com/incom/incom_images/add-cart.png=\\n\\n', 'btn btn-success\"><img src=3D\"https://res.sastasundar.com/incom/incom_images=\\n\\n', 'hr, img { border: 0px; }\\n\\n', 'img { vertical-align: middle; }\\n\\n', '  blockquote, img, pre, tr { break-inside: avoid; }\\n\\n', '  img { max-width: 100% !important; }\\n\\n', '.img-thumbnail, body { background-color: rgb(255, 255, 255); }\\n\\n', '.carousel-inner > .item > a > img, .carousel-inner > .item > img, .img-resp=\\n\\n', 'onsive, .thumbnail a > img, .thumbnail > img { display: block; max-width: 1=\\n\\n', '.img-rounded { border-radius: 6px; }\\n\\n', '.img-thumbnail { display: inline-block; max-width: 100%; height: auto; padd=\\n\\n', '.img-circle { border-radius: 50%; }\\n\\n', '.nav > li > a > img { max-width: none; }\\n\\n', '.navbar-brand > img { display: block; }\\n\\n', '.thumbnail a > img, .thumbnail > img { margin-right: auto; margin-left: aut=\\n\\n', '.media-object.img-thumbnail { max-width: none; }\\n\\n', '.carousel-inner > .item > a > img, .carousel-inner > .item > img { line-hei=\\n\\n', '#sidebar_fs .icons .i-con img { width: 40px; margin: 2px; }\\n\\n', '.cart_loader_content img { margin: 0px; padding: 0px; }\\n\\n', '.sspl-logo .img-responsive { display: inline; }\\n\\n', '.q-link ul li a img { margin: 0px auto; display: block; }\\n\\n', '  .shopbycategory_img_container { min-height: 140px; }\\n\\n', '  .shopbycategory_listing_img_container { min-height: 140px; }\\n\\n', '  .shopbycategory_langing_img_container { min-height: 140px; }\\n\\n', '  .shopbycategory_img_container_top { min-height: 165px; }\\n\\n', '  .shopbyhealth_img_container { min-height: 200px; }\\n\\n', '  .shopbyhealth_listing_img_container { min-height: 185px; }\\n\\n', '  .shopbyhealth_prod_img_container { min-height: 190px; }\\n\\n', '  .keywordlist_img_container { min-height: 195px; }\\n\\n', '  .keywordlist_prod_img_container { min-height: 190px; }\\n\\n', '  .shopbycategory_img_container { min-height: 140px; }\\n\\n', '  .shopbycategory_listing_img_container { min-height: 140px; }\\n\\n', '  .shopbycategory_langing_img_container { min-height: 140px; }\\n\\n', '  .shopbycategory_img_container_top { min-height: 180px; }\\n\\n', '  .shopbyhealth_img_container { min-height: 153px; }\\n\\n', '  .shopbyhealth_listing_img_container { min-height: 140px; }\\n\\n', '  .shopbyhealth_prod_img_container { min-height: 190px; }\\n\\n', '  .keywordlist_img_container { min-height: 150px; }\\n\\n', '  .keywordlist_prod_img_container { min-height: 190px; }\\n\\n', '  .shopbycategory_img_container { min-height: 165px; }\\n\\n', '  .shopbycategory_listing_img_container { min-height: 165px; }\\n\\n', '  .shopbycategory_langing_img_container { min-height: 165px; }\\n\\n', '  .shopbycategory_img_container_top { min-height: 210px; }\\n\\n', '  .shopbyhealth_img_container { min-height: 185px; }\\n\\n', '  .shopbyhealth_listing_img_container { min-height: 170px; }\\n\\n', '  .shopbyhealth_prod_img_container { min-height: 190px; }\\n\\n', '  .keywordlist_img_container { min-height: 180px; }\\n\\n', '  .keywordlist_prod_img_container { min-height: 190px; }\\n\\n', '.img-block-link { width: 100%; display: block; position: relative; }\\n\\n', '.topOrderSec .imgsec { position: absolute; left: 50%; margin-left: -50px; t=\\n\\n', '  .articleProTwo .img_placeholderarea { height: 153px; }\\n\\n', '  .ShopbyHealth .loopsec strong img { min-height: 52px; }\\n\\n', '  .banner_placeholderarea_imgSec { min-height: 159px; background: rgb(245, =\\n\\n', '  .lifestylecls_placeholderarea span.imgPlaceholderarea { min-height: 121px=\\n\\n', '  .lifestylecls_placeholderarea12 span.imgPlaceholderarea { min-height: 123=\\n\\n', '  .HealthArticlesNewSec .img_placeholderarea { min-height: 152px; backgroun=\\n\\n', '  .lifestylecls_placeholderarea span.imgPlaceholderarea { min-height: 121px=\\n\\n', '  .lifestylecls_placeholderarea12 span.imgPlaceholderarea { min-height: 148=\\n\\n', '  .articleProTwo .img_placeholderarea { height: 175px; }\\n\\n', '  .ShopbyHealth .loopsec strong img { min-height: 79px; }\\n\\n', '  .banner_placeholderarea_imgSec { min-height: 225px; background: rgb(245, =\\n\\n', '  .lifestylecls_placeholderarea span.imgPlaceholderarea { min-height: 175px=\\n\\n', '  .lifestylecls_placeholderarea12 span.imgPlaceholderarea { min-height: 152=\\n\\n', '  .HealthArticlesNewSec .img_placeholderarea { min-height: 152px; backgroun=\\n\\n', '  .articleProTwo .img_placeholderarea { height: 144px; }\\n\\n', '  .banner_placeholderarea_imgSec { min-height: 151px; background: rgb(245, =\\n\\n', '  .lifestylecls_placeholderarea span.imgPlaceholderarea { min-height: 88px;=\\n\\n', '  .HealthArticlesNewSec .img_placeholderarea { min-height: 113px; backgroun=\\n\\n', '.owl-carousel .owl-item .cdd img { margin-top: 15px; width: 56% !important;=\\n\\n', '.peek a.co-ver img { position: relative; z-index: 10; transition: all 0.3s =\\n\\n', '.peek:hover a.co-ver img { visibility: hidden; opacity: 0; transition: all =\\n\\n', '  .boxgrid a img { margin: 0px auto; width: 80% !important; }\\n\\n', '.imgradius img { margin-bottom: 20px; border-radius: 12px !important; }\\n\\n', '.right_banner_imgradi_top img { margin-bottom: 0px; border-top-left-radius:=\\n\\n', '.right_banner_imgradi_bot img { margin-bottom: 20px; border-bottom-left-rad=\\n\\n', '.right_banner_imgradi img { margin-bottom: 20px; border-radius: 12px !impor=\\n\\n', '.hiUser .dropdown-menu li a img { position: absolute; left: 2px; top: 50%; =\\n\\n', '.recommendedHealthCheckUp .imgposirel { position: relative; display: -webki=\\n\\n', '  .recommendedHealthCheckUp .imgposirel { min-height: 208px; }\\n\\n', '  .recommendedHealthCheckUp .imgposirel { min-height: 247px; }\\n\\n', '  .recommendedHealthCheckUp .imgposirel { min-height: 191px; }\\n\\n', '.owl-carousel .owl-item img { display: block; width: 100%; }\\n\\n', '.owl-carousel .owl-item img.owl-lazy { transform-style: preserve-3d; }\\n\\n', '.js_img_effect_start { transform: scale(1.1); opacity: 0 !important; transi=\\n\\n', '.js_img_effect_end { transform: scale(1); opacity: 1 !important; transition=\\n\\n', '.search_product_image img { width: auto; height: 50px; }\\n\\n', '.search_article_image img { width: auto; height: 50px; }\\n\\n', '.search_article_image1 img { width: auto; height: 50px; }\\n\\n', '.search_doctor_image img { border-radius: 50%; max-width: 75px; height: 75p=\\n\\n', 'img { max-width: 80px; height: 80px; }\\n\\n', '1 img { margin: 0px auto; }\\n\\n', 'RJcXTvHJ2Q5zhl6nfrVHcaDO83Mb5xIp64G9aTimg7FdAYd1bhdU07ijSL0hYrxFc7csgKn7an6l\\n\\n']\n"
     ]
    }
   ],
   "source": [
    "print(img_list)"
   ]
  },
  {
   "cell_type": "code",
   "execution_count": 6,
   "metadata": {},
   "outputs": [
    {
     "name": "stdout",
     "output_type": "stream",
     "text": [
      "153\n"
     ]
    }
   ],
   "source": [
    "print(img_count)"
   ]
  },
  {
   "cell_type": "code",
   "execution_count": 7,
   "metadata": {},
   "outputs": [
    {
     "name": "stdout",
     "output_type": "stream",
     "text": [
      "ERROR: Invalid URL '-f': No schema supplied. Perhaps you meant http://-f?\n",
      "\n",
      "--- DONE! ---\n",
      "\n",
      "The following links were broken:\n"
     ]
    }
   ],
   "source": [
    "import requests\n",
    "import sys\n",
    "from bs4 import BeautifulSoup\n",
    "from urllib.parse import urlparse\n",
    "from urllib.parse import urljoin\n",
    "\n",
    "searched_links = []\n",
    "broken_links = []\n",
    "infile = open('SastaSundar.html', 'r')\n",
    "URL = \"https://www.sastasundar.com/\"\n",
    "def getLinksFromHTML(infile):\n",
    "    def getLink(el):\n",
    "        return el[\"href\"]\n",
    "    return list(map(getLink, BeautifulSoup(infile, features=\"html.parser\").select(\"a[href]\")))\n",
    "\n",
    "def find_broken_links(domainToSearch, URL, parentURL):\n",
    "    if (not (URL in searched_links)) and (not URL.startswith(\"mailto:\")) and (not (\"javascript:\" in URL)) and (not URL.endswith(\".png\")) and (not URL.endswith(\".jpg\")) and (not URL.endswith(\".jpeg\")):\n",
    "        try:\n",
    "            requestObj = requests.get(URL);\n",
    "            searched_links.append(URL)\n",
    "            if(requestObj.status_code == 404):\n",
    "                broken_links.append(\"BROKEN: link \" + URL + \" from \" + parentURL)\n",
    "                print(broken_links[-1])\n",
    "            else:\n",
    "                print(\"NOT BROKEN: link \" + URL + \" from \" + parentURL)\n",
    "                if urlparse(URL).netloc == domainToSearch:\n",
    "                    for link in getLinksFromHTML(requestObj.text):\n",
    "                        find_broken_links(domainToSearch, urljoin(URL, link), URL)\n",
    "        except Exception as e:\n",
    "            print(\"ERROR: \" + str(e));\n",
    "            searched_links.append(domainToSearch)\n",
    "\n",
    "find_broken_links(urlparse(sys.argv[1]).netloc, sys.argv[1], \"\")\n",
    "\n",
    "print(\"\\n--- DONE! ---\\n\")\n",
    "print(\"The following links were broken:\")\n",
    "\n",
    "for link in broken_links:\n",
    "    print (\"\\t\" + link)"
   ]
  },
  {
   "cell_type": "code",
   "execution_count": 8,
   "metadata": {},
   "outputs": [
    {
     "name": "stdout",
     "output_type": "stream",
     "text": [
      "['3D\"https://res.sastasundar.com/incom/sspl_website=', '3D\"https://res.sastasundar.com/incom/incom=', '3D\"https:/=', '3D\"https://res.s=', '3D\"htt=', '3D\"https://res.sastasundar.com/incom/incom_banner/1366/160629595=', '=3D\"https://res.sastasundar.com/incom/incom_banner/1366/1602576612_dnavita.=', '3D\"https://res.sastasundar.com/incom/incom_banner/1366/1604297030_suga=', '3D\"https://res.sastasundar.com/incom/incom_ba=', '3D\"https://res.sastasundar.com/incom/incom_banner/1366/160=', '3D\"https://res.sastasundar.com/incom/inco=', '3D\"https://res.sastasund=', '3D\"https://res.sastasundar=', '3D\"https://res.sastasundar.com/incom/sspl_website/images/homepag=', '3D\"https://res.sastasundar.com/incom/sspl_website=', '3D\"https://res.sastasundar.com/incom/s=', '3D\"https://res.sastasundar.com/incom/sspl_website/imag=', '3D\"https:=', '3D\"https://res.sastasundar.com/incom/incom_banner/160217414=', '=3D\"https://res.sastasundar.com/incom/incom_banner/1602174189_banner3.jpg\"', None, '3D\"https://res.sastasundar.com/incom/sspl_website/images=', '3D\"https://res.sast=', '3D\"https://res.sastasundar.com/incom/sspl_website/images/preload.=', '=3D\"https://res.sastasundar.com/incom/sspl_website/images/preload.gif\"', '3D\"https://res.sastasundar.com/incom/sspl_website/images/prel=', '3D\"https://res.sastasundar.com/incom/sspl_website/images/pr=', '3D\"https://res.sastasundar.com/incom/sspl_website/images/prelo=', '3D\"https://res.s=', '3D\"http=', '3D\"ht=', None, '3D\"https://www.sastasundar.com/\"', '3D\"https://res.sastasundar.com/incom/incom_images/add-cart.png=', '3D\"https://res.sastasundar.com/incom/incom_images=']\n"
     ]
    }
   ],
   "source": [
    "from bs4 import BeautifulSoup\n",
    "#import urllib2\n",
    "import re\n",
    "count1 = 0\n",
    "#html_page = urllib2.urlopen(\"http://imgur.com\")\n",
    "soup = BeautifulSoup(infile)\n",
    "images = []\n",
    "for img in soup.findAll('img'):\n",
    "    images.append(img.get('src'))\n",
    "    count1 = count1 + 1\n",
    "print(images)"
   ]
  },
  {
   "cell_type": "code",
   "execution_count": 9,
   "metadata": {},
   "outputs": [
    {
     "name": "stdout",
     "output_type": "stream",
     "text": [
      "35\n"
     ]
    }
   ],
   "source": [
    "print(count1)"
   ]
  },
  {
   "cell_type": "code",
   "execution_count": null,
   "metadata": {},
   "outputs": [],
   "source": []
  }
 ],
 "metadata": {
  "kernelspec": {
   "display_name": "Python 3",
   "language": "python",
   "name": "python3"
  },
  "language_info": {
   "codemirror_mode": {
    "name": "ipython",
    "version": 3
   },
   "file_extension": ".py",
   "mimetype": "text/x-python",
   "name": "python",
   "nbconvert_exporter": "python",
   "pygments_lexer": "ipython3",
   "version": "3.7.6"
  }
 },
 "nbformat": 4,
 "nbformat_minor": 4
}
